{
 "cells": [
  {
   "cell_type": "markdown",
   "metadata": {},
   "source": [
    "# Regulatory region extractor\n",
    "Here I'll prototype a script to pull putative regulatory regions out of a set of genomic scaffolds using a `gff` file. I'll use a number of functions from `gffutils`, which is currently being integrated into `biopython`."
   ]
  },
  {
   "cell_type": "code",
   "execution_count": 1,
   "metadata": {},
   "outputs": [],
   "source": [
    "# Core\n",
    "import re, glob, sys, string\n",
    "import pandas as pd\n",
    "from pathlib import Path\n",
    "import numpy as np\n",
    "# Plotting\n",
    "%matplotlib inline\n",
    "%config InlineBackend.figure_format ='retina'\n",
    "import matplotlib.pyplot as plt\n",
    "import matplotlib.patches as mpatches\n",
    "import matplotlib.lines as mlines\n",
    "from matplotlib import colors as mcolors\n",
    "import matplotlib.cm as cm\n",
    "import matplotlib.patheffects as pe\n",
    "from mpl_toolkits.axes_grid1.inset_locator import inset_axes\n",
    "from tqdm.notebook import tqdm\n",
    "# Bio\n",
    "from Bio import SeqIO\n",
    "from Bio.Seq import Seq\n",
    "import gffutils"
   ]
  },
  {
   "cell_type": "code",
   "execution_count": 2,
   "metadata": {},
   "outputs": [],
   "source": [
    "update_results = Path(\"../../../GitHub_repos/finalproject/scratch/Pamilis_funannotate/TRAIN/Portulaca-amilis.v0-FA1.6.0/update_results/\")"
   ]
  },
  {
   "cell_type": "markdown",
   "metadata": {},
   "source": [
    "The function above will create an sqlite3 database at `GitHub_repos/finalproject/scratch/Pamilis_funannotate/TRAIN/Portulaca-amilis.v0-FA1.6.0/update_results/Portulaca_amilis.gff.sql`. However, I've already built this database and done some time consuming steps to edit it (see below), so I'll just load from the SQL file."
   ]
  },
  {
   "cell_type": "code",
   "execution_count": 3,
   "metadata": {},
   "outputs": [],
   "source": [
    "# gffdb = gffutils.create_db(data=str(next(update_results.glob(\"*.gff3\"))), dbfn=str(update_results/\"Portulaca_amilis.gff.sql\"), \n",
    "#                            disable_infer_transcripts=True, disable_infer_genes=True,\n",
    "#                            verbose=True,merge_strategy=\"create_unique\", force=True)"
   ]
  },
  {
   "cell_type": "code",
   "execution_count": 5,
   "metadata": {},
   "outputs": [],
   "source": [
    "gffdb = gffutils.FeatureDB(\"/Users/iangilman/Dropbox/GitHub_repos/finalproject/scratch/Pamilis_funannotate/TRAIN/Portulaca-amilis.v0-FA1.6.0/update_results/Portulaca_amilis.gff.sql\")"
   ]
  },
  {
   "cell_type": "markdown",
   "metadata": {},
   "source": [
    "I used`merge_strategy=create_unique` because my `gff` looks like\n",
    "\n",
    "```bash\n",
    "##gff-version 3\n",
    "scaffold_1\tfunannotate\tgene\t2215\t3431\t.\t-\t.\tID=FUN_000001;\n",
    "scaffold_1\tfunannotate\tmRNA\t2215\t3431\t.\t-\t.\tID=FUN_000001-T1;Parent=FUN_000001;product=hypothetical protein;\n",
    "scaffold_1\tfunannotate\texon\t3267\t3431\t.\t-\t.\tID=FUN_000001-T1.exon1;Parent=FUN_000001-T1;\n",
    "scaffold_1\tfunannotate\texon\t3146\t3190\t.\t-\t.\tID=FUN_000001-T1.exon2;Parent=FUN_000001-T1;\n",
    "scaffold_1\tfunannotate\texon\t2914\t3067\t.\t-\t.\tID=FUN_000001-T1.exon3;Parent=FUN_000001-T1;\n",
    "scaffold_1\tfunannotate\texon\t2736\t2841\t.\t-\t.\tID=FUN_000001-T1.exon4;Parent=FUN_000001-T1;\n",
    "scaffold_1\tfunannotate\texon\t2215\t2297\t.\t-\t.\tID=FUN_000001-T1.exon5;Parent=FUN_000001-T1;\n",
    "scaffold_1\tfunannotate\tCDS\t3267\t3431\t.\t-\t0\tID=FUN_000001-T1.cds;Parent=FUN_000001-T1;\n",
    "scaffold_1\tfunannotate\tCDS\t3146\t3190\t.\t-\t0\tID=FUN_000001-T1.cds;Parent=FUN_000001-T1;\n",
    "scaffold_1\tfunannotate\tCDS\t2914\t3067\t.\t-\t0\tID=FUN_000001-T1.cds;Parent=FUN_000001-T1;\n",
    "scaffold_1\tfunannotate\tCDS\t2736\t2841\t.\t-\t2\tID=FUN_000001-T1.cds;Parent=FUN_000001-T1;\n",
    "```\n",
    "\n",
    "which has duplicate `ID`s, even though they are separated in space.\n",
    "\n",
    "We can access genes in a `pandas`- or `dict`-like way with keys, and if we pair the database with sequence data we can extract individual features."
   ]
  },
  {
   "cell_type": "code",
   "execution_count": 6,
   "metadata": {},
   "outputs": [],
   "source": [
    "scaffolds = Path(\"../../../GitHub_repos/finalproject/scratch/Pamilis_funannotate/CLEAN/Pamilis_Final_HiRise.clean.sorted.fasta\")"
   ]
  },
  {
   "cell_type": "code",
   "execution_count": 7,
   "metadata": {},
   "outputs": [
    {
     "data": {
      "text/plain": [
       "'ATGATCAAAGTAGTCTTGATGGTCTTGGATATGAATCAGAAGCATGTTCTGAAGCTGGTTGACGCTTGGAAGCTAGGTCATGCGCCGATGTTGGTTGGCCTGCTTAGTTTCTTCCGTAAAGCTGGCCGAATTGGTCCACCTCATTTCGCCGAGAGGTGGGTCAAGGTTATGCACTCCATTTCGCCGTGAAGTGCAATATTTGAGTTTTTGTAGGTTGACCTGCTTAGTTTCTGCCGTAAAGCTGGTCGAAGTTGATCCGCTTCATTTCGCCGTGAGACGGATCGAGGTGACGTACTtcatttcgccgtgaagcatgccgtgatgatgatctgatccacttcatttcgccgtgaggtgggtcaaggtgacgcttggaagccaaatcctgcgtctgtgtaagttgaccagcttagtttctgccgtaaagctggtcagagttgatccacttcatttcgccatgaagcatgccgaggtGATGTCGAGTCGGTCCACTTCATTTCGCCGTGAGGTGGATCCAGGTGACGTGCTTCATTTCGCCGTGAAGCATGTTGGGATGATGAGTTGATCCACTTCATTTCGCCGTGAGGTAGATCAAGGTGACGGGCTTCATTTCGCCGTGAAGCGCGGGACCTGTGTTTGTGTGCTGAAAAGGGTGTCATCGTATtgtgagggcccGATGACGGCCGCTGAGGATGAGTACGTCTCGTTGTAAACGCCTGACGACCGACGTATTTTGTTCATGCATGGTCCTGCAAAAAGACAAAGAAAGTATCAGTTTTTtttttaatttTACAAAGGGTTAGGAAATTACCTTTCTGATTGATTGATCTTAACTGGTCGGAAGCGGTGAGAATTTTCGGTTCTCCCGATTTTTGTATTCCATTTTTGTAGGAGAAAACAAAAAAGAGAGAATATATACACAAAAAAGAGAAGGAAAAAAAATTAAAAAAAAATAAAATAAAATAAAATAAATAAAAAATAAAAAGGATGGAGAACCCGTCCTAGCTTCTAAGAAACAAGATTTTTTTTTTTTTTTTTTTtgaggaagttcccgtcccaggttcaatttttttttgtggagggatagaacccgtccaaggttgagaaaatgttttcttttttttttttttttagtgggccgatggcccagcttgaacgggctgcttttttcgtcggtcagataACTTCAGCCCCCAGTTTAGTGGAAACCCAAATAG'"
      ]
     },
     "execution_count": 7,
     "metadata": {},
     "output_type": "execute_result"
    }
   ],
   "source": [
    "gene = gffdb[\"FUN_000001-T1\"]\n",
    "gene.sequence(fasta=str(scaffolds))"
   ]
  },
  {
   "cell_type": "markdown",
   "metadata": {},
   "source": [
    "We can also get sub-features of genes using the `.children` method."
   ]
  },
  {
   "cell_type": "code",
   "execution_count": 8,
   "metadata": {},
   "outputs": [
    {
     "name": "stdout",
     "output_type": "stream",
     "text": [
      "scaffold_1\tfunannotate\tCDS\t3267\t3431\t.\t-\t0\tID=FUN_000001-T1.cds;Parent=FUN_000001-T1;\n",
      "scaffold_1\tfunannotate\tCDS\t3146\t3190\t.\t-\t0\tID=FUN_000001-T1.cds;Parent=FUN_000001-T1;\n",
      "scaffold_1\tfunannotate\tCDS\t2914\t3067\t.\t-\t0\tID=FUN_000001-T1.cds;Parent=FUN_000001-T1;\n",
      "scaffold_1\tfunannotate\tCDS\t2736\t2841\t.\t-\t2\tID=FUN_000001-T1.cds;Parent=FUN_000001-T1;\n",
      "scaffold_1\tfunannotate\tCDS\t2215\t2297\t.\t-\t1\tID=FUN_000001-T1.cds;Parent=FUN_000001-T1;\n"
     ]
    }
   ],
   "source": [
    "for cd in gffdb.children(id='FUN_000001', featuretype=\"CDS\"):\n",
    "    print(cd)"
   ]
  },
  {
   "cell_type": "markdown",
   "metadata": {},
   "source": [
    "The `count_features_of_type` shows how many of each genomic feature are in the `gff`."
   ]
  },
  {
   "cell_type": "code",
   "execution_count": 9,
   "metadata": {},
   "outputs": [
    {
     "name": "stdout",
     "output_type": "stream",
     "text": [
      "CDS: 258581\n",
      "exon: 267981\n",
      "five_prime_UTR: 26969\n",
      "gene: 53094\n",
      "intron: 208192\n",
      "mRNA: 58732\n",
      "tRNA: 1057\n",
      "three_prime_UTR: 25336\n",
      "upstream_promoter: 57188\n"
     ]
    }
   ],
   "source": [
    "for f in gffdb.featuretypes():\n",
    "    print(\"{}: {}\".format(f, gffdb.count_features_of_type(f)))"
   ]
  },
  {
   "cell_type": "markdown",
   "metadata": {},
   "source": [
    "Maybe most useful for us here is the `create_introns` method, which automatically infers introns and can be paired with `update` to create a new feature."
   ]
  },
  {
   "cell_type": "code",
   "execution_count": 10,
   "metadata": {},
   "outputs": [],
   "source": [
    "introns = list(gffdb.create_introns())"
   ]
  },
  {
   "cell_type": "markdown",
   "metadata": {},
   "source": [
    "The update function below is pretty computationally intense, so try to save the database after so that it can be reloaded rather than rerunning the code chunk each time. I've commented out the next few blocks so I don't overwrite my original files."
   ]
  },
  {
   "cell_type": "code",
   "execution_count": 11,
   "metadata": {},
   "outputs": [],
   "source": [
    "# gffdb.update(introns, disable_infer_transcripts=True, disable_infer_genes=True,\n",
    "#     verbose=True, merge_strategy=\"create_unique\");"
   ]
  },
  {
   "cell_type": "code",
   "execution_count": 12,
   "metadata": {},
   "outputs": [],
   "source": [
    "# with open(update_results/\"Portulaca_amilis.all-features.gff3\", \"w+\") as o:\n",
    "#     o.write(\"##gff-version 3\\n\")\n",
    "#     for g in gffdb.iter_by_parent_childs():\n",
    "#         for f in g:\n",
    "#             o.write(str(f)+\"\\n\")"
   ]
  },
  {
   "cell_type": "markdown",
   "metadata": {},
   "source": [
    "Here are the blocks to write the intron data to files."
   ]
  },
  {
   "cell_type": "code",
   "execution_count": 13,
   "metadata": {},
   "outputs": [],
   "source": [
    "# with open(update_results/\"Portulaca_amilis.introns.gff3\", \"w+\") as o:\n",
    "#     o.writelines([str(i)+\"\\n\" for i in introns])"
   ]
  },
  {
   "cell_type": "code",
   "execution_count": 14,
   "metadata": {},
   "outputs": [],
   "source": [
    "# introndb = gffutils.create_db(data=str(update_results/\"Portulaca_amilis.introns.gff3\"), \n",
    "#                     dbfn=str(update_results/\"Portulaca_amilis.introns.sql\"), \n",
    "#                     disable_infer_transcripts=True, disable_infer_genes=True,\n",
    "#                     verbose=True,merge_strategy=\"create_unique\")"
   ]
  },
  {
   "cell_type": "code",
   "execution_count": 15,
   "metadata": {},
   "outputs": [],
   "source": [
    "introndb = gffutils.FeatureDB(\"/Users/iangilman/Dropbox/GitHub_repos/finalproject/scratch/Pamilis_funannotate/TRAIN/Portulaca-amilis.v0-FA1.6.0/update_results/Portulaca_amilis.introns.sql\")"
   ]
  },
  {
   "cell_type": "code",
   "execution_count": 16,
   "metadata": {},
   "outputs": [
    {
     "name": "stdout",
     "output_type": "stream",
     "text": [
      "intron: 208192\n"
     ]
    }
   ],
   "source": [
    "for f in introndb.featuretypes():\n",
    "    print(\"{}: {}\".format(f, introndb.count_features_of_type(f)))"
   ]
  },
  {
   "cell_type": "markdown",
   "metadata": {},
   "source": [
    "Now I'll parse the intron `gff` and create a list of `biopython` sequence records. This just facilitates writing the output `fasta`. One unintuitive thing to note is that sequences **must be added as `Seq` instances** to `SeqRecord`s because `biopython` doesn't like working with strings. I'm not sure why using `sequence='ATGCGT...` isn't enough of a cue to interpret a string as a sequence, alas..."
   ]
  },
  {
   "cell_type": "code",
   "execution_count": 17,
   "metadata": {},
   "outputs": [],
   "source": [
    "intron_fasta = update_results / \"Portulaca_amilis.introns.fasta\""
   ]
  },
  {
   "cell_type": "code",
   "execution_count": 18,
   "metadata": {},
   "outputs": [],
   "source": [
    "with open(intron_fasta, \"w+\") as handle:\n",
    "    \n",
    "    records = []\n",
    "    for i in introndb.iter_by_parent_childs(featuretype=\"intron\"):\n",
    "        intron_id = i[0].id\n",
    "        scaffold = i[0].seqid\n",
    "        source = i[0].source\n",
    "        start = i[0].start\n",
    "        stop = i[0].stop\n",
    "        strand = i[0].strand\n",
    "\n",
    "        intron_info = \"{} ({}) {}-{} {}\".format(scaffold, strand, start, stop, source)\n",
    "        seq = Seq(i[0].sequence(fasta=str(scaffolds)))\n",
    "\n",
    "        records.append(SeqIO.SeqRecord(seq=seq, id=intron_id, description=intron_info))\n",
    "\n",
    "    SeqIO.write(sequences=records, handle=handle, format=\"fasta\")"
   ]
  },
  {
   "cell_type": "markdown",
   "metadata": {},
   "source": [
    "The last piece I need to generate is the is set of 2kb windows upstream of the transcript start sites (TSSs). I'll start by looking at the hardest case, a gene with a 5'UTR on the (-) strand."
   ]
  },
  {
   "cell_type": "code",
   "execution_count": 19,
   "metadata": {},
   "outputs": [
    {
     "name": "stdout",
     "output_type": "stream",
     "text": [
      "scaffold_1\tfunannotate\tCDS\t175410\t175525\t.\t-\t0\tID=FUN_000035-T1.cds;Parent=FUN_000035-T1;\n",
      "scaffold_1\tfunannotate\tCDS\t175122\t175281\t.\t-\t1\tID=FUN_000035-T1.cds;Parent=FUN_000035-T1;\n",
      "scaffold_1\tfunannotate\tCDS\t173226\t173287\t.\t-\t0\tID=FUN_000035-T1.cds;Parent=FUN_000035-T1;\n",
      "scaffold_1\tfunannotate\tCDS\t172658\t172814\t.\t-\t1\tID=FUN_000035-T1.cds;Parent=FUN_000035-T1;\n",
      "scaffold_1\tfunannotate\tCDS\t172238\t172515\t.\t-\t0\tID=FUN_000035-T1.cds;Parent=FUN_000035-T1;\n",
      "scaffold_1\tfunannotate\tCDS\t171479\t171605\t.\t-\t1\tID=FUN_000035-T1.cds;Parent=FUN_000035-T1;\n",
      "scaffold_1\tfunannotate\texon\t175410\t175847\t.\t-\t.\tID=FUN_000035-T1.exon1;Parent=FUN_000035-T1;\n",
      "scaffold_1\tfunannotate\texon\t175122\t175281\t.\t-\t.\tID=FUN_000035-T1.exon2;Parent=FUN_000035-T1;\n",
      "scaffold_1\tfunannotate\texon\t173226\t173287\t.\t-\t.\tID=FUN_000035-T1.exon3;Parent=FUN_000035-T1;\n",
      "scaffold_1\tfunannotate\texon\t172658\t172814\t.\t-\t.\tID=FUN_000035-T1.exon4;Parent=FUN_000035-T1;\n",
      "scaffold_1\tfunannotate\texon\t172238\t172515\t.\t-\t.\tID=FUN_000035-T1.exon5;Parent=FUN_000035-T1;\n",
      "scaffold_1\tfunannotate\texon\t171478\t171605\t.\t-\t.\tID=FUN_000035-T1.exon6;Parent=FUN_000035-T1;\n",
      "scaffold_1\tfunannotate\tfive_prime_UTR\t175526\t175847\t.\t-\t.\tID=FUN_000035-T1.utr5p1;Parent=FUN_000035-T1;\n",
      "scaffold_1\tgffutils_derived\tintron\t175282\t175409\t.\t-\t.\tID=FUN_000035-T1.exon1,FUN_000035-T1.exon2;Parent=FUN_000035-T1;\n",
      "scaffold_1\tgffutils_derived\tintron\t173288\t175121\t.\t-\t.\tID=FUN_000035-T1.exon2,FUN_000035-T1.exon3;Parent=FUN_000035-T1;\n",
      "scaffold_1\tgffutils_derived\tintron\t172815\t173225\t.\t-\t.\tID=FUN_000035-T1.exon3,FUN_000035-T1.exon4;Parent=FUN_000035-T1;\n",
      "scaffold_1\tgffutils_derived\tintron\t172516\t172657\t.\t-\t.\tID=FUN_000035-T1.exon4,FUN_000035-T1.exon5;Parent=FUN_000035-T1;\n",
      "scaffold_1\tgffutils_derived\tintron\t171606\t172237\t.\t-\t.\tID=FUN_000035-T1.exon5,FUN_000035-T1.exon6;Parent=FUN_000035-T1;\n",
      "scaffold_1\tfunannotate\tmRNA\t171478\t175847\t.\t-\t.\tID=FUN_000035-T1;Parent=FUN_000035;product=hypothetical protein;\n",
      "scaffold_1\tfunannotate\tthree_prime_UTR\t171478\t171478\t.\t-\t.\tID=FUN_000035-T1.utr3p1;Parent=FUN_000035-T1;\n",
      "scaffold_1\tfunannotate\tupstream_promoter\t175848\t177848\t.\t-\t.\tID=FUN_000035-T1;Parent=FUN_000035;hypothetical promoter region;\n"
     ]
    }
   ],
   "source": [
    "for f in gffdb.featuretypes():\n",
    "    for c in gffdb.children(id='FUN_000035', featuretype=f):\n",
    "        print(c)"
   ]
  },
  {
   "cell_type": "markdown",
   "metadata": {},
   "source": [
    "I'll make a little plot of this gene so show how it's organized."
   ]
  },
  {
   "cell_type": "code",
   "execution_count": 20,
   "metadata": {},
   "outputs": [
    {
     "data": {
      "image/png": "[encoded data removed]",
      "text/plain": [
       "<Figure size 576x288 with 1 Axes>"
      ]
     },
     "metadata": {
      "image/png": {
       "height": 280,
       "width": 567
      },
      "needs_background": "light"
     },
     "output_type": "display_data"
    }
   ],
   "source": [
    "fig, ax = plt.subplots(figsize=(8,4))\n",
    "\n",
    "gene = gffdb[\"FUN_000035\"]\n",
    "\n",
    "ax.hlines(y=0, xmin=gene.start, xmax=gene.stop, linewidth=5, color=\"black\")\n",
    "\n",
    "for f in [\"mRNA\", \"exon\", \"three_prime_UTR\", \"five_prime_UTR\"]:\n",
    "    if f==\"mRNA\":\n",
    "        y=-0.5\n",
    "        color=\"xkcd:iris\"\n",
    "        linewidth=1\n",
    "    elif f==\"exon\":\n",
    "        y=0\n",
    "        color=\"xkcd:amber\"\n",
    "        linewidth=100\n",
    "    elif f==\"three_prime_UTR\":\n",
    "        y=0\n",
    "        color=\"xkcd:denim blue\"\n",
    "        linewidth=90\n",
    "    elif f==\"five_prime_UTR\":\n",
    "        y=0\n",
    "        color=\"xkcd:fern green\"\n",
    "        linewidth=90\n",
    "    for c in gffdb.children(id='FUN_000035', featuretype=f):\n",
    "        ax.hlines(y=y, xmin=c.start, xmax=c.stop, linewidth=linewidth, color=color)\n",
    "    \n",
    "    if gene.strand==\"-\":\n",
    "        x=gene.stop\n",
    "        upstream_region = x+2000\n",
    "        ax.quiver(np.arange(gene.stop, gene.start, -500), \n",
    "              np.repeat(-0.5, len(np.arange(gene.stop, gene.start, -500))), \n",
    "                        -1, 0, color=\"xkcd:iris\")\n",
    "    elif gene.strand==\"+\":\n",
    "        x=gene.start\n",
    "        upstream_region = x-2000\n",
    "        ax.quiver(np.arange(gene.stop, gene.start, -500), \n",
    "                  np.repeat(-0.5, len(np.arange(gene.start, gene.stop, 500))), \n",
    "                            1, 0, color=\"xkcd:iris\")\n",
    "    ax.hlines(y=-0.5, xmin=x, xmax=upstream_region, color=\"xkcd:pale red\", linewidth=10)\n",
    "ax.set_ylim(-0.75, 0.75)\n",
    "plt.tight_layout()"
   ]
  },
  {
   "cell_type": "markdown",
   "metadata": {},
   "source": [
    "So we can see that the 5'UTR region is *inside* of the first exon, so it might be easier to base our TSS on the mRNA position. I'm going to try a bit of a brute force method that creates new lines from existing mRNA lines. After spending some time reading [the docs](http://daler.github.io/gffutils/index.html), I can't figure out the right tool to use to automatically generate new feature IDs, and I'm worried about messing up existing relations within the database."
   ]
  },
  {
   "cell_type": "code",
   "execution_count": 21,
   "metadata": {},
   "outputs": [
    {
     "name": "stdout",
     "output_type": "stream",
     "text": [
      "scaffold_1\tfunannotate\tmRNA\t2215\t3431\t.\t-\t.\tID=FUN_000001-T1;Parent=FUN_000001;product=hypothetical protein;\n",
      "scaffold_1\tfunannotate\t2kb_promoter\t3432\t5432\t.\t-\t.\tID=FUN_000001-T1;Parent=FUN_000001;product=hypothetical protein;\n",
      "scaffold_1\tfunannotate\tmRNA\t4075\t5661\t.\t-\t.\tID=FUN_000002-T1;Parent=FUN_000002;product=hypothetical protein;\n",
      "scaffold_1\tfunannotate\t2kb_promoter\t5662\t7662\t.\t-\t.\tID=FUN_000002-T1;Parent=FUN_000002;product=hypothetical protein;\n",
      "scaffold_1\tfunannotate\tmRNA\t6298\t7208\t.\t-\t.\tID=FUN_000003-T1;Parent=FUN_000003;product=hypothetical protein;\n",
      "scaffold_1\tfunannotate\t2kb_promoter\t7209\t9209\t.\t-\t.\tID=FUN_000003-T1;Parent=FUN_000003;product=hypothetical protein;\n",
      "scaffold_1\tfunannotate\tmRNA\t7459\t9400\t.\t+\t.\tID=FUN_000004-T1;Parent=FUN_000004;product=hypothetical protein;\n",
      "scaffold_1\tfunannotate\t2kb_promoter\t5458\t7458\t.\t+\t.\tID=FUN_000004-T1;Parent=FUN_000004;product=hypothetical protein;\n",
      "scaffold_1\tfunannotate\tmRNA\t13154\t13842\t.\t-\t.\tID=FUN_000005-T1;Parent=FUN_000005;product=hypothetical protein;\n",
      "scaffold_1\tfunannotate\t2kb_promoter\t13843\t15843\t.\t-\t.\tID=FUN_000005-T1;Parent=FUN_000005;product=hypothetical protein;\n",
      "scaffold_1\tfunannotate\tmRNA\t18438\t18925\t.\t-\t.\tID=FUN_000006-T1;Parent=FUN_000006;product=hypothetical protein;\n",
      "scaffold_1\tfunannotate\t2kb_promoter\t18926\t20926\t.\t-\t.\tID=FUN_000006-T1;Parent=FUN_000006;product=hypothetical protein;\n",
      "scaffold_1\tfunannotate\tmRNA\t26836\t29185\t.\t-\t.\tID=FUN_000007-T1;Parent=FUN_000007;product=hypothetical protein;\n",
      "scaffold_1\tfunannotate\t2kb_promoter\t29186\t31186\t.\t-\t.\tID=FUN_000007-T1;Parent=FUN_000007;product=hypothetical protein;\n",
      "scaffold_1\tfunannotate\tmRNA\t29194\t30307\t.\t-\t.\tID=FUN_000008-T1;Parent=FUN_000008;product=hypothetical protein;\n",
      "scaffold_1\tfunannotate\t2kb_promoter\t30308\t32308\t.\t-\t.\tID=FUN_000008-T1;Parent=FUN_000008;product=hypothetical protein;\n",
      "scaffold_1\tfunannotate\tmRNA\t32208\t33873\t.\t-\t.\tID=FUN_000009-T1;Parent=FUN_000009;product=hypothetical protein;\n",
      "scaffold_1\tfunannotate\t2kb_promoter\t33874\t35874\t.\t-\t.\tID=FUN_000009-T1;Parent=FUN_000009;product=hypothetical protein;\n",
      "scaffold_1\tfunannotate\tmRNA\t38005\t39744\t.\t-\t.\tID=FUN_000010-T1;Parent=FUN_000010;product=hypothetical protein;\n",
      "scaffold_1\tfunannotate\t2kb_promoter\t39745\t41745\t.\t-\t.\tID=FUN_000010-T1;Parent=FUN_000010;product=hypothetical protein;\n",
      "scaffold_1\tfunannotate\tmRNA\t49575\t50078\t.\t-\t.\tID=FUN_000011-T1;Parent=FUN_000011;product=hypothetical protein;\n",
      "scaffold_1\tfunannotate\t2kb_promoter\t50079\t52079\t.\t-\t.\tID=FUN_000011-T1;Parent=FUN_000011;product=hypothetical protein;\n"
     ]
    }
   ],
   "source": [
    "promoter_strings = []\n",
    "\n",
    "i=0\n",
    "for mrna in gffdb.all_features(featuretype=\"mRNA\"):\n",
    "    mrna_string = str(mrna)\n",
    "    \n",
    "    if mrna.strand==\"+\":\n",
    "        TSS = mrna.start-1\n",
    "        promoter_string = re.sub(\"\\tmRNA\\t[\\d]+\\t[\\d]+\", \n",
    "                                 \"\\t2kb_promoter\\t{}\\t{}\".format(TSS-2000, TSS), \n",
    "                                 mrna_string)\n",
    "    elif mrna.strand==\"-\":\n",
    "        TSS = mrna.stop+1\n",
    "        promoter_string = re.sub(\"\\tmRNA\\t[\\d]+\\t[\\d]+\", \n",
    "                                 \"\\t2kb_promoter\\t{}\\t{}\".format(TSS, TSS+2000), \n",
    "                                 mrna_string)\n",
    "    else:\n",
    "        print(mrna_string)\n",
    "    \n",
    "    print(mrna_string)\n",
    "    print(promoter_string)\n",
    "    \n",
    "    i+=1\n",
    "    if i>10:break"
   ]
  },
  {
   "cell_type": "markdown",
   "metadata": {},
   "source": [
    "The associated `.tbl` file lists the lengths of each scaffold and can be used to determine if promoter regions extend past scaffold boundaries. To be safe, I'll drop any regions that extend past scaffold boundaries. This is because when doing a preliminary scan of the `gff` and `tbl` files it looks like most cases where this happens are very small scaffolds that are not part of the primary assembly."
   ]
  },
  {
   "cell_type": "code",
   "execution_count": 22,
   "metadata": {},
   "outputs": [],
   "source": [
    "tblpath = next(update_results.glob(\"*.tbl\"))"
   ]
  },
  {
   "cell_type": "code",
   "execution_count": 23,
   "metadata": {},
   "outputs": [],
   "source": [
    "scaffold_dict = {}\n",
    "\n",
    "with open(tblpath, \"r\") as f:\n",
    "    for line in f:\n",
    "        if line.startswith(\">\"):\n",
    "            scaffold = line.split()[-1]\n",
    "            coords = [eval(i) for i in next(f).split(\"\\t\")[:2]]\n",
    "            scaffold_dict[scaffold] = coords"
   ]
  },
  {
   "cell_type": "markdown",
   "metadata": {},
   "source": [
    "Let's try this again and check where promoters extend past scaffold boundaries."
   ]
  },
  {
   "cell_type": "code",
   "execution_count": 25,
   "metadata": {},
   "outputs": [
    {
     "name": "stdout",
     "output_type": "stream",
     "text": [
      "1544 features extended past scaffold\n"
     ]
    }
   ],
   "source": [
    "promoter_strings = []\n",
    "extended_past_scaffold = 0\n",
    "for mrna in gffdb.all_features(featuretype=\"mRNA\"):\n",
    "    mrna_string = str(mrna)\n",
    "    scaffold = mrna_string.split(\"\\t\")[0]\n",
    "    scaffold_end = scaffold_dict[scaffold][1]\n",
    "    \n",
    "    if mrna.strand==\"+\":\n",
    "        TSS = mrna.start-1\n",
    "        promoter_start = TSS-2000\n",
    "        promoter_string = re.sub(\"\\tmRNA\\t[\\d]+\\t[\\d]+\", \n",
    "                                 \"\\tupstream_promoter\\t{}\\t{}\".format(promoter_start, TSS), \n",
    "                                 mrna_string)+\"\\n\"\n",
    "    elif mrna.strand==\"-\":\n",
    "        TSS = mrna.stop+1\n",
    "        promoter_start = TSS+2000\n",
    "        promoter_string = re.sub(\"\\tmRNA\\t[\\d]+\\t[\\d]+\", \n",
    "                                 \"\\tupstream_promoter\\t{}\\t{}\".format(TSS, promoter_start), \n",
    "                                 mrna_string)+\"\\n\"\n",
    "    else:\n",
    "        print(\"ERROR IN\\n{}\".format(mrna_string))\n",
    "    \n",
    "    if (promoter_start<1) or (promoter_start>scaffold_end):\n",
    "#         print(\"FEATURE EXTENDS PAST SCAFFOLD\\n{}\\n\".format(mrna_string))\n",
    "        extended_past_scaffold += 1\n",
    "        continue\n",
    "    \n",
    "    promoter_string = re.sub(\"product=hypothetical protein\", \"hypothetical promoter region\", promoter_string)\n",
    "    promoter_strings.append(promoter_string)\n",
    "\n",
    "print(\"{} features extended past scaffold\".format(extended_past_scaffold))"
   ]
  },
  {
   "cell_type": "markdown",
   "metadata": {},
   "source": [
    "The majority of features that extended past the scaffold occured in the tiny scaffolds that we aren't as concerned with. Now I can write these to a `gff`. It's a little annoying that the `gffutils` package doesn't have more writing capabilities."
   ]
  },
  {
   "cell_type": "code",
   "execution_count": 26,
   "metadata": {},
   "outputs": [],
   "source": [
    "with open(update_results/\"Portulaca_amilis.hypothetical_promoters.gff3\", \"w+\") as o:\n",
    "    o.write(\"##gff-version 3\\n\")\n",
    "    o.writelines(promoter_strings)"
   ]
  },
  {
   "cell_type": "markdown",
   "metadata": {},
   "source": [
    "Now to create a database and a `fasta` file of promoter sequencers."
   ]
  },
  {
   "cell_type": "code",
   "execution_count": 376,
   "metadata": {},
   "outputs": [
    {
     "name": "stderr",
     "output_type": "stream",
     "text": [
      "2020-07-17 16:10:10,634 - INFO - Populating features\n",
      "2020-07-17 16:10:15,310 - INFO - Populating features table and first-order relations: 57187 features\n",
      "2020-07-17 16:10:15,311 - INFO - Updating relations\n",
      "2020-07-17 16:10:15,684 - INFO - Creating relations(parent) index\n",
      "2020-07-17 16:10:15,703 - INFO - Creating relations(child) index\n",
      "2020-07-17 16:10:15,729 - INFO - Creating features(featuretype) index\n",
      "2020-07-17 16:10:15,752 - INFO - Creating features (seqid, start, end) index\n",
      "2020-07-17 16:10:15,779 - INFO - Creating features (seqid, start, end, strand) index\n",
      "2020-07-17 16:10:15,811 - INFO - Running ANALYZE features\n"
     ]
    }
   ],
   "source": [
    "promoterdb = gffutils.create_db(data=str(update_results/\"Portulaca_amilis.hypothetical_promoters.gff3\"), \n",
    "                    dbfn=str(update_results/\"Portulaca_amilis.hypothetical_promoters.sql\"), \n",
    "                    disable_infer_transcripts=True, disable_infer_genes=True,\n",
    "                    verbose=True,merge_strategy=\"create_unique\")"
   ]
  },
  {
   "cell_type": "code",
   "execution_count": 27,
   "metadata": {},
   "outputs": [],
   "source": [
    "promoterdb = gffutils.FeatureDB(\"/Users/iangilman/Dropbox/GitHub_repos/finalproject/scratch/Pamilis_funannotate/TRAIN/Portulaca-amilis.v0-FA1.6.0/update_results/Portulaca_amilis.hypothetical_promoters.sql\")"
   ]
  },
  {
   "cell_type": "code",
   "execution_count": 28,
   "metadata": {},
   "outputs": [
    {
     "name": "stdout",
     "output_type": "stream",
     "text": [
      "upstream_promoter: 57188\n"
     ]
    }
   ],
   "source": [
    "for f in promoterdb.featuretypes():\n",
    "    print(\"{}: {}\".format(f, promoterdb.count_features_of_type(f)))"
   ]
  },
  {
   "cell_type": "markdown",
   "metadata": {},
   "source": [
    "Add the promoter features to the large database."
   ]
  },
  {
   "cell_type": "code",
   "execution_count": 29,
   "metadata": {},
   "outputs": [],
   "source": [
    "# gffdb.update(list(promoterdb.all_features()), disable_infer_transcripts=True, disable_infer_genes=True,\n",
    "#     verbose=True, merge_strategy=\"create_unique\")"
   ]
  },
  {
   "cell_type": "code",
   "execution_count": null,
   "metadata": {},
   "outputs": [],
   "source": [
    "def featuredb_to_fasta(db, featuretype, ref_fasta, out_fasta, MEME=False):\n",
    "    '''Creates a fasta of the sequences of a particular feature type from a\n",
    "    gffuntils FeatureDB database. Fasta header will be constructed as\n",
    "    \n",
    "    >ID SEQID (STRAND) START-STOP SOURCE\n",
    "    \n",
    "    For example, the gff line\n",
    "    \n",
    "    \"scaffold_1\tgffutils_derived\tintron\t2298\t2735\t.\t-\t.\tID=FUN_000001-T1.exon4,FUN_000001-T1.exon5;Parent=FUN_000001-T1;\"\n",
    "    \n",
    "    will read\n",
    "    \n",
    "    \">FUN_000001-T1.exon4 scaffold_1 (-) 2298-2735 gffutils_derived\"\n",
    "    \n",
    "    Parameters\n",
    "    ----------\n",
    "    db : <gffutils.interface.FeatureDB> gffutils FeatureDB\n",
    "    featuretype : <str> Feature type to extract from db\n",
    "    ref_fasta : <str> Path to reference fasta for extracting sequences\n",
    "    out_fasta : <str> Path to output fasta file. Will overwrite by default\n",
    "    MEME : <bool> Whether or not to write MEME compatible fasta headers\n",
    "    Returns\n",
    "    -------\n",
    "    N/A\n",
    "    '''\n",
    "    \n",
    "    \n",
    "    with open(out_fasta, \"w+\") as handle:    \n",
    "        records = []\n",
    "        for i in db.iter_by_parent_childs(featuretype=featuretype):\n",
    "            feature_id = i[0].id\n",
    "            scaffold = i[0].seqid\n",
    "            source = i[0].source\n",
    "            start = i[0].start\n",
    "            stop = i[0].stop\n",
    "            strand = i[0].strand\n",
    "\n",
    "            feature_info = \"{} ({}) {}-{} {}\".format(scaffold, strand, start, stop, source)\n",
    "            seq = Seq(i[0].sequence(fasta=str(ref_fasta)))\n",
    "            \n",
    "            meme_feature_info = \"ID={};Strand=({});Source={}\".format(feature_id, strand, source)\n",
    "            meme_id = \"{}:{}-{}\".format(scaffold, start, stop)\n",
    "            \n",
    "            if MEME:\n",
    "                records.append(SeqIO.SeqRecord(seq=seq, id=fimo_id, description=meme_feature_info))\n",
    "            else:\n",
    "                records.append(SeqIO.SeqRecord(seq=seq, id=feature_id, description=feature_info))\n",
    "\n",
    "        SeqIO.write(sequences=records, handle=handle, format=\"fasta\")"
   ]
  },
  {
   "cell_type": "markdown",
   "metadata": {},
   "source": [
    "Now loop over the feature types. Remember to set `MEME=True` so that MEME programs refer to element positions _in the genome_ rather than _relative to element_."
   ]
  },
  {
   "cell_type": "code",
   "execution_count": 32,
   "metadata": {},
   "outputs": [],
   "source": [
    "for feature in [\"three_prime_UTR\", \"upstream_promoter\", \"intron\", \"upstream_promotor\", \"five_prime_UTR\"]:\n",
    "    path = update_results / \"Portulaca_amilis.{}.MEME.fasta\".format(feature)\n",
    "    featuredb_to_fasta(db=gffdb, featuretype=feature, ref_fasta=scaffolds, out_fasta=path, MEME=True)"
   ]
  }
 ],
 "metadata": {
  "kernelspec": {
   "display_name": "phylo",
   "language": "python",
   "name": "phylo"
  },
  "language_info": {
   "codemirror_mode": {
    "name": "ipython",
    "version": 3
   },
   "file_extension": ".py",
   "mimetype": "text/x-python",
   "name": "python",
   "nbconvert_exporter": "python",
   "pygments_lexer": "ipython3",
   "version": "3.6.10"
  },
  "varInspector": {
   "cols": {
    "lenName": 16,
    "lenType": 16,
    "lenVar": 40
   },
   "kernels_config": {
    "python": {
     "delete_cmd_postfix": "",
     "delete_cmd_prefix": "del ",
     "library": "var_list.py",
     "varRefreshCmd": "print(var_dic_list())"
    },
    "r": {
     "delete_cmd_postfix": ") ",
     "delete_cmd_prefix": "rm(",
     "library": "var_list.r",
     "varRefreshCmd": "cat(var_dic_list()) "
    }
   },
   "types_to_exclude": [
    "module",
    "function",
    "builtin_function_or_method",
    "instance",
    "_Feature"
   ],
   "window_display": false
  }
 },
 "nbformat": 4,
 "nbformat_minor": 4
}
