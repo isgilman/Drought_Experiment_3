{
 "cells": [
  {
   "cell_type": "code",
   "execution_count": 26,
   "metadata": {},
   "outputs": [],
   "source": [
    "# Core\n",
    "import re, os, glob\n",
    "import pandas as pd\n",
    "from pandas.compat import StringIO\n",
    "import scipy as sp\n",
    "import numpy as np\n",
    "import csv\n",
    "# Plotting\n",
    "%matplotlib inline\n",
    "import matplotlib.pyplot as plt\n",
    "import matplotlib.patches as mpatches\n",
    "import seaborn as sns\n",
    "sns.set(style=\"ticks\")\n",
    "from datetime import datetime\n",
    "import matplotlib.dates as mdates"
   ]
  },
  {
   "cell_type": "code",
   "execution_count": 71,
   "metadata": {},
   "outputs": [
    {
     "data": {
      "text/html": [
       "<div>\n",
       "<style scoped>\n",
       "    .dataframe tbody tr th:only-of-type {\n",
       "        vertical-align: middle;\n",
       "    }\n",
       "\n",
       "    .dataframe tbody tr th {\n",
       "        vertical-align: top;\n",
       "    }\n",
       "\n",
       "    .dataframe thead th {\n",
       "        text-align: right;\n",
       "    }\n",
       "</style>\n",
       "<table border=\"1\" class=\"dataframe\">\n",
       "  <thead>\n",
       "    <tr style=\"text-align: right;\">\n",
       "      <th></th>\n",
       "      <th>Date</th>\n",
       "      <th>Time</th>\n",
       "      <th>Sample</th>\n",
       "      <th>Mass_g</th>\n",
       "      <th>pHi</th>\n",
       "      <th>uL_NaOH</th>\n",
       "      <th>pHf</th>\n",
       "      <th>ueq_H</th>\n",
       "      <th>datetime</th>\n",
       "    </tr>\n",
       "  </thead>\n",
       "  <tbody>\n",
       "    <tr>\n",
       "      <th>0</th>\n",
       "      <td>12 February 2019</td>\n",
       "      <td>16:00</td>\n",
       "      <td>AM</td>\n",
       "      <td>0.22245</td>\n",
       "      <td>5.64</td>\n",
       "      <td>831.0</td>\n",
       "      <td>7.03</td>\n",
       "      <td>7.47</td>\n",
       "      <td>2019-02-12 16:00:00</td>\n",
       "    </tr>\n",
       "    <tr>\n",
       "      <th>1</th>\n",
       "      <td>12 February 2019</td>\n",
       "      <td>16:00</td>\n",
       "      <td>OR</td>\n",
       "      <td>0.21921</td>\n",
       "      <td>5.97</td>\n",
       "      <td>440.0</td>\n",
       "      <td>7.00</td>\n",
       "      <td>4.01</td>\n",
       "      <td>2019-02-12 16:00:00</td>\n",
       "    </tr>\n",
       "    <tr>\n",
       "      <th>2</th>\n",
       "      <td>12 February 2019</td>\n",
       "      <td>16:00</td>\n",
       "      <td>OF</td>\n",
       "      <td>0.23501</td>\n",
       "      <td>5.61</td>\n",
       "      <td>940.0</td>\n",
       "      <td>7.03</td>\n",
       "      <td>8.00</td>\n",
       "      <td>2019-02-12 16:00:00</td>\n",
       "    </tr>\n",
       "    <tr>\n",
       "      <th>3</th>\n",
       "      <td>13 February 2019</td>\n",
       "      <td>4:00</td>\n",
       "      <td>OF</td>\n",
       "      <td>0.15241</td>\n",
       "      <td>6.03</td>\n",
       "      <td>523.0</td>\n",
       "      <td>7.03</td>\n",
       "      <td>6.86</td>\n",
       "      <td>2019-02-13 04:00:00</td>\n",
       "    </tr>\n",
       "    <tr>\n",
       "      <th>4</th>\n",
       "      <td>13 February 2019</td>\n",
       "      <td>4:00</td>\n",
       "      <td>AM</td>\n",
       "      <td>0.17704</td>\n",
       "      <td>5.28</td>\n",
       "      <td>1246.0</td>\n",
       "      <td>7.01</td>\n",
       "      <td>14.08</td>\n",
       "      <td>2019-02-13 04:00:00</td>\n",
       "    </tr>\n",
       "  </tbody>\n",
       "</table>\n",
       "</div>"
      ],
      "text/plain": [
       "               Date   Time Sample   Mass_g   pHi  uL_NaOH   pHf  ueq_H  \\\n",
       "0  12 February 2019  16:00     AM  0.22245  5.64    831.0  7.03   7.47   \n",
       "1  12 February 2019  16:00     OR  0.21921  5.97    440.0  7.00   4.01   \n",
       "2  12 February 2019  16:00     OF  0.23501  5.61    940.0  7.03   8.00   \n",
       "3  13 February 2019   4:00     OF  0.15241  6.03    523.0  7.03   6.86   \n",
       "4  13 February 2019   4:00     AM  0.17704  5.28   1246.0  7.01  14.08   \n",
       "\n",
       "             datetime  \n",
       "0 2019-02-12 16:00:00  \n",
       "1 2019-02-12 16:00:00  \n",
       "2 2019-02-12 16:00:00  \n",
       "3 2019-02-13 04:00:00  \n",
       "4 2019-02-13 04:00:00  "
      ]
     },
     "execution_count": 71,
     "metadata": {},
     "output_type": "execute_result"
    }
   ],
   "source": [
    "titrations = pd.read_csv(\"./Test_titrations.csv\")\n",
    "titrations.dropna(inplace=True)\n",
    "titrations[\"datetime\"] = [\" \".join([row[\"Date\"], row[\"Time\"]]) for i, row in titrations.iterrows()]\n",
    "titrations[\"datetime\"] = [datetime.strptime(dt, \"%d %B %Y %H:%M\") for dt in titrations[\"datetime\"]]\n",
    "titrations.head()"
   ]
  },
  {
   "cell_type": "code",
   "execution_count": 70,
   "metadata": {},
   "outputs": [
    {
     "data": {
      "image/png": "[encoded data removed]",
      "text/plain": [
       "<Figure size 576x432 with 1 Axes>"
      ]
     },
     "metadata": {},
     "output_type": "display_data"
    }
   ],
   "source": [
    "fig, ax = plt.subplots(figsize = (8,6))\n",
    "\n",
    "for i in range(12, 21, 1):\n",
    "    rect = mpatches.Rectangle((datetime(2019, 2, i, 20), 0), timedelta(hours = 10), \n",
    "                              1000, color='grey', alpha=0.10)\n",
    "    ax.add_patch(rect) \n",
    "    \n",
    "ax.plot_date(x = titrations.loc[titrations[\"Sample\"]==\"AM\"][\"datetime\"], \n",
    "           y = titrations.loc[titrations[\"Sample\"]==\"AM\"][\"ueq_H\"], \n",
    "           color = \"xkcd:greenish\", marker = \"o\", label = \"$P. amilis$\", alpha = 0.5, markersize=10)\n",
    "ax.plot_date(x = titrations.loc[titrations[\"Sample\"]==\"OF\"][\"datetime\"], \n",
    "           y = titrations.loc[titrations[\"Sample\"]==\"OF\"][\"ueq_H\"], \n",
    "           color = \"xkcd:orangish\", marker = \"o\", label = \"$P. oleraceae$ Florida\", alpha = 0.5, markersize=10)\n",
    "ax.plot_date(x = titrations.loc[titrations[\"Sample\"]==\"OR\"][\"datetime\"], \n",
    "           y = titrations.loc[titrations[\"Sample\"]==\"OR\"][\"ueq_H\"], \n",
    "           color = \"xkcd:bluish\", marker = \"o\", label = \"$P. oleracea$ Russia\", alpha = 0.5, markersize=10)\n",
    "plt.legend(loc = \"upper left\")\n",
    "\n",
    "ax.set_xlim([datetime(2019, 2, 12, 0), datetime(2019, 2, 21, 0)])\n",
    "ax.set_ylim([0, titrations[\"ueq_H\"].max()*1.1])\n",
    "ax.xaxis.set_major_formatter(mdates.DateFormatter('%d %B %H:%M'))\n",
    "ax.set_ylabel(\"$\\mu eq$ H$^{+}\\circ g^{-1}$\")\n",
    "fig.autofmt_xdate()\n",
    "plt.tight_layout()\n",
    "# plt.savefig(\"./test_titrations.pdf\", dpi = 100, transparent=True)"
   ]
  },
  {
   "cell_type": "code",
   "execution_count": null,
   "metadata": {
    "collapsed": true
   },
   "outputs": [],
   "source": []
  }
 ],
 "metadata": {
  "kernelspec": {
   "display_name": "Python 2",
   "language": "python",
   "name": "python2"
  },
  "language_info": {
   "codemirror_mode": {
    "name": "ipython",
    "version": 2
   },
   "file_extension": ".py",
   "mimetype": "text/x-python",
   "name": "python",
   "nbconvert_exporter": "python",
   "pygments_lexer": "ipython2",
   "version": "2.7.15"
  }
 },
 "nbformat": 4,
 "nbformat_minor": 2
}
